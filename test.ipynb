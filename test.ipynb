{
 "cells": [
  {
   "cell_type": "code",
   "execution_count": 1,
   "metadata": {},
   "outputs": [],
   "source": [
    "import musicbox.theory as th\n",
    "import musicbox.box as box\n",
    "import random\n",
    "import mido"
   ]
  },
  {
   "cell_type": "code",
   "execution_count": 2,
   "metadata": {
    "scrolled": true
   },
   "outputs": [],
   "source": [
    "roman = ['I', 'II', 'III', 'IV', 'V', 'VI', 'VII']\n",
    "tonleiter = list(th.Tone.all())\n",
    "progression = [['I', 'V', 'IV', 'I'],\n",
    "              ['I', 'IV', 'V', 'IV'],\n",
    "              ['I', 'I', 'IV', 'V'],\n",
    "              ['I', 'IV', 'I', 'V'],\n",
    "              ['I', 'IV', 'V', 'V'],\n",
    "              ['I', 'VI', 'II', 'V'],\n",
    "              ['I', 'VI', 'IV', 'V'],\n",
    "              ['I', 'IV', 'V', 'I'],\n",
    "              ['I', 'V', 'I'],\n",
    "              ['VI', 'II', 'V', 'I']]\n",
    "\n",
    "def setting():\n",
    "    out = dict()\n",
    "    out['root'] = random.choice(list(th.Tone.all()))\n",
    "    scale_types = andom.choice(['major', 'minor'])\n",
    "    out['scale_type'] = random.choice(scale_types)\n",
    "    out['scale'] = th.Scale(out['root'], out['scale_type'])\n",
    "    out['rhythm'] = [True for _ in range(20)]\n",
    "    out['progression'] = random.choice(progression)\n",
    "    return out\n",
    "\n",
    "def select(tones, notes, previous=None):\n",
    "    actual_notes = []\n",
    "    for note in notes:\n",
    "        for tone in tones:\n",
    "            if note.tone == tone:\n",
    "                actual_notes.append(note)\n",
    "    return random.choice(actual_notes)"
   ]
  },
  {
   "cell_type": "code",
   "execution_count": 3,
   "metadata": {},
   "outputs": [
    {
     "name": "stdout",
     "output_type": "stream",
     "text": [
      "G#\n",
      "major\n",
      "Scale(\"G#\", \"major\")\n",
      "[True, True, True, True, True, True, True, True, True, True, True, True, True, True, True, True, True, True, True, True]\n",
      "['I', 'VI', 'II', 'V']\n"
     ]
    }
   ],
   "source": [
    "asdf = setting()\n",
    "print(asdf['root'])\n",
    "print(asdf['scale_type'])\n",
    "print(repr(asdf['scale']))\n",
    "print(asdf['rhythm'])\n",
    "print(asdf['progression'])\n"
   ]
  },
  {
   "cell_type": "code",
   "execution_count": 4,
   "metadata": {
    "scrolled": false
   },
   "outputs": [],
   "source": [
    "s = asdf['scale']\n",
    "notes = []\n",
    "for p in asdf['progression']:\n",
    "    for r in asdf['rhythm']:\n",
    "        notes.append(select(s.degree(p).tones, box.GI30.notes))"
   ]
  },
  {
   "cell_type": "code",
   "execution_count": null,
   "metadata": {},
   "outputs": [],
   "source": []
  },
  {
   "cell_type": "code",
   "execution_count": 5,
   "metadata": {},
   "outputs": [
    {
     "name": "stdout",
     "output_type": "stream",
     "text": [
      "['FLUID Synth (30402):Synth input port (30402:0) 129:0', 'Midi Through:Midi Through Port-0 14:0']\n"
     ]
    }
   ],
   "source": [
    "mid = mido.MidiFile()\n",
    "track = mido.MidiTrack()\n",
    "mid.tracks.append(track)\n",
    "names = mido.get_output_names()\n",
    "print(names)\n",
    "for name in names:\n",
    "    if 'FLUID' in name:\n",
    "        port = mido.open_output(name)"
   ]
  },
  {
   "cell_type": "code",
   "execution_count": 6,
   "metadata": {},
   "outputs": [],
   "source": [
    "track.append(mido.Message('program_change', program=10, time=0))\n",
    "# TODO set tempo bpm2tempo"
   ]
  },
  {
   "cell_type": "code",
   "execution_count": 7,
   "metadata": {},
   "outputs": [],
   "source": [
    "for i, note in enumerate(notes):\n",
    "    track.append(mido.Message('note_on', note=note.midi, velocity=64, time=100))\n",
    "    track.append(mido.Message('note_off', note=note.midi, velocity=127, time=100))"
   ]
  },
  {
   "cell_type": "code",
   "execution_count": 8,
   "metadata": {},
   "outputs": [],
   "source": [
    "for msg in mid.play():\n",
    "    port.send(msg)"
   ]
  },
  {
   "cell_type": "code",
   "execution_count": 9,
   "metadata": {},
   "outputs": [],
   "source": [
    "port.close()"
   ]
  },
  {
   "cell_type": "code",
   "execution_count": 10,
   "metadata": {},
   "outputs": [],
   "source": [
    "# mid.save('test.mid')"
   ]
  },
  {
   "cell_type": "code",
   "execution_count": null,
   "metadata": {},
   "outputs": [],
   "source": []
  }
 ],
 "metadata": {
  "kernelspec": {
   "display_name": "Python 3",
   "language": "python",
   "name": "python3"
  },
  "language_info": {
   "codemirror_mode": {
    "name": "ipython",
    "version": 3
   },
   "file_extension": ".py",
   "mimetype": "text/x-python",
   "name": "python",
   "nbconvert_exporter": "python",
   "pygments_lexer": "ipython3",
   "version": "3.6.7"
  }
 },
 "nbformat": 4,
 "nbformat_minor": 2
}
